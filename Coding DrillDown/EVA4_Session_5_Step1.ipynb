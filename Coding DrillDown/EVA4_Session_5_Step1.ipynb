{
  "nbformat": 4,
  "nbformat_minor": 0,
  "metadata": {
    "colab": {
      "name": "Copy of EVA4 - Session 5-Step1.ipynb",
      "provenance": [],
      "collapsed_sections": []
    },
    "kernelspec": {
      "name": "python3",
      "display_name": "Python 3"
    },
    "accelerator": "GPU"
  },
  "cells": [
    {
      "cell_type": "code",
      "metadata": {
        "id": "0m2JWFliFfKT"
      },
      "source": [
        "from __future__ import print_function\n",
        "import torch\n",
        "import torch.nn as nn\n",
        "import torch.nn.functional as F\n",
        "import torch.optim as optim\n",
        "from torchvision import datasets, transforms\n"
      ],
      "execution_count": null,
      "outputs": []
    },
    {
      "cell_type": "code",
      "metadata": {
        "id": "h_Cx9q2QFgM7"
      },
      "source": [
        "class Net(nn.Module):\n",
        "    def __init__(self):\n",
        "        super(Net, self).__init__()\n",
        "\n",
        "        self.conv1 = nn.Sequential(\n",
        "            nn.Conv2d(1, 10, 3),  # 28x28 output 26x26 RF : 3x3\n",
        "            nn.ReLU(),\n",
        "            nn.BatchNorm2d(10),\n",
        "            \n",
        "           \n",
        "            nn.Conv2d(10, 10, 3), # 26x26 output 24x24 RF : 5x5\n",
        "            nn.ReLU(),\n",
        "            nn.BatchNorm2d(10),\n",
        "            \n",
        "           \n",
        "            nn.Conv2d(10, 10, 3), # 24x24 output 22x22 RF : 7x7\n",
        "            nn.ReLU(),\n",
        "            nn.BatchNorm2d(10),\n",
        "            \n",
        "        \n",
        "        )\n",
        "\n",
        "        self.trans1 = nn.Sequential(\n",
        "           \n",
        "            nn.AvgPool2d(2, 2),  # 22x22 output - 11x11 RF 14x14\n",
        "\n",
        "        )\n",
        "\n",
        "        self.conv2 =  nn.Sequential(\n",
        "\n",
        "            nn.Conv2d(10, 10, 3), # 11x11 output - 9x9 RF 16x16\n",
        "            nn.ReLU(),\n",
        "            nn.BatchNorm2d(10),\n",
        "            \n",
        "            \n",
        "            nn.Conv2d(10, 10, 3),  # 9x9 output - 7x7 RF 18x18\n",
        "            nn.ReLU(),\n",
        "            nn.BatchNorm2d(10),\n",
        "            \n",
        "            \n",
        "        )\n",
        "\n",
        "        self.trans2 = nn.Sequential(\n",
        "            \n",
        "            nn.AvgPool2d(2, stride=2, padding=0)\n",
        "        )\n",
        "        self.fc = nn.Linear(10*3*3,10)\n",
        "\n",
        "    def forward(self, x):\n",
        "        x = self.conv1(x)\n",
        "        x = self.trans1(x)\n",
        "        x = self.conv2(x)\n",
        "        x = self.trans2(x)\n",
        "        x = x.view(x.size(0),-1)\n",
        "        x = self.fc(x)\n",
        "        return F.log_softmax(x,dim=1)"
      ],
      "execution_count": null,
      "outputs": []
    },
    {
      "cell_type": "code",
      "metadata": {
        "id": "xdydjYTZFyi3",
        "colab": {
          "base_uri": "https://localhost:8080/"
        },
        "outputId": "7924b891-fd4c-47de-a827-fab88639d5d6"
      },
      "source": [
        "!pip install torchsummary\n",
        "from torchsummary import summary\n",
        "use_cuda = torch.cuda.is_available()\n",
        "device = torch.device(\"cuda\" if use_cuda else \"cpu\")\n",
        "model = Net().to(device)\n",
        "summary(model, input_size=(1, 28, 28))"
      ],
      "execution_count": null,
      "outputs": [
        {
          "output_type": "stream",
          "text": [
            "Requirement already satisfied: torchsummary in /usr/local/lib/python3.7/dist-packages (1.5.1)\n",
            "----------------------------------------------------------------\n",
            "        Layer (type)               Output Shape         Param #\n",
            "================================================================\n",
            "            Conv2d-1           [-1, 10, 26, 26]             100\n",
            "              ReLU-2           [-1, 10, 26, 26]               0\n",
            "       BatchNorm2d-3           [-1, 10, 26, 26]              20\n",
            "            Conv2d-4           [-1, 10, 24, 24]             910\n",
            "              ReLU-5           [-1, 10, 24, 24]               0\n",
            "       BatchNorm2d-6           [-1, 10, 24, 24]              20\n",
            "            Conv2d-7           [-1, 10, 22, 22]             910\n",
            "              ReLU-8           [-1, 10, 22, 22]               0\n",
            "       BatchNorm2d-9           [-1, 10, 22, 22]              20\n",
            "        AvgPool2d-10           [-1, 10, 11, 11]               0\n",
            "           Conv2d-11             [-1, 10, 9, 9]             910\n",
            "             ReLU-12             [-1, 10, 9, 9]               0\n",
            "      BatchNorm2d-13             [-1, 10, 9, 9]              20\n",
            "           Conv2d-14             [-1, 10, 7, 7]             910\n",
            "             ReLU-15             [-1, 10, 7, 7]               0\n",
            "      BatchNorm2d-16             [-1, 10, 7, 7]              20\n",
            "        AvgPool2d-17             [-1, 10, 3, 3]               0\n",
            "           Linear-18                   [-1, 10]             910\n",
            "================================================================\n",
            "Total params: 4,750\n",
            "Trainable params: 4,750\n",
            "Non-trainable params: 0\n",
            "----------------------------------------------------------------\n",
            "Input size (MB): 0.00\n",
            "Forward/backward pass size (MB): 0.44\n",
            "Params size (MB): 0.02\n",
            "Estimated Total Size (MB): 0.46\n",
            "----------------------------------------------------------------\n"
          ],
          "name": "stdout"
        }
      ]
    },
    {
      "cell_type": "code",
      "metadata": {
        "id": "DqTWLaM5GHgH"
      },
      "source": [
        "\n",
        "\n",
        "torch.manual_seed(1)\n",
        "batch_size = 128\n",
        "\n",
        "kwargs = {'num_workers': 1, 'pin_memory': True} if use_cuda else {}\n",
        "train_loader = torch.utils.data.DataLoader(\n",
        "    datasets.MNIST('../data', train=True, download=True,\n",
        "                    transform=transforms.Compose([                        \n",
        "                        transforms.ToTensor(),\n",
        "                        transforms.Normalize((0.1307,), (0.3081,))\n",
        "                    ])),\n",
        "    batch_size=batch_size, shuffle=True, **kwargs)\n",
        "test_loader = torch.utils.data.DataLoader(\n",
        "    datasets.MNIST('../data', train=False, transform=transforms.Compose([\n",
        "                        transforms.ToTensor(),\n",
        "                        transforms.Normalize((0.1307,), (0.3081,))\n",
        "                    ])),\n",
        "    batch_size=batch_size, shuffle=True, **kwargs)\n"
      ],
      "execution_count": null,
      "outputs": []
    },
    {
      "cell_type": "code",
      "metadata": {
        "id": "8fDefDhaFlwH"
      },
      "source": [
        "from tqdm import tqdm\n",
        "def train(model, device, train_loader, optimizer, epoch):\n",
        "    model.train()\n",
        "    pbar = tqdm(train_loader)\n",
        "    train_loss = 0\n",
        "    correct = 0\n",
        "\n",
        "    for batch_idx, (data, target) in enumerate(pbar):\n",
        "        data, target = data.to(device), target.to(device)\n",
        "        optimizer.zero_grad()\n",
        "        output = model(data)\n",
        "        loss = F.nll_loss(output, target) \n",
        "        train_loss += loss.item()       \n",
        "        loss.backward()\n",
        "        optimizer.step()\n",
        "        \n",
        "        pbar.set_description(desc= f'loss={loss.item()} batch_id={batch_idx}')        \n",
        "        pred = output.argmax(dim=1, keepdim=True)  # get the index of the max log-probability\n",
        "        correct += pred.eq(target.view_as(pred)).sum().item()\n",
        "\n",
        "    train_loss /= len(train_loader.dataset)\n",
        "    print('\\nTrain set: Average loss: {:.4f}, Accuracy: {}/{} ({:.2f}%)\\n'.format(\n",
        "        train_loss, correct, len(train_loader.dataset),\n",
        "        100. * correct / len(train_loader.dataset)))\n",
        "    return train_loss, 100.*correct/len(train_loader.dataset)\n",
        "\n",
        "def test(model, device, test_loader):\n",
        "    model.eval()\n",
        "    test_loss = 0\n",
        "    correct = 0\n",
        "    with torch.no_grad():\n",
        "        for data, target in test_loader:\n",
        "            data, target = data.to(device), target.to(device)\n",
        "            output = model(data)\n",
        "            test_loss += F.nll_loss(output, target, reduction='sum').item()  # sum up batch loss\n",
        "            pred = output.argmax(dim=1, keepdim=True)  # get the index of the max log-probability\n",
        "            correct += pred.eq(target.view_as(pred)).sum().item()\n",
        "\n",
        "    test_loss /= len(test_loader.dataset)\n",
        "\n",
        "    print('\\nTest set: Average loss: {:.4f}, Accuracy: {}/{} ({:.2f}%)\\n'.format(\n",
        "        test_loss, correct, len(test_loader.dataset),\n",
        "        100. * correct / len(test_loader.dataset)))\n",
        "    return test_loss, 100.*correct/len(test_loader.dataset)"
      ],
      "execution_count": null,
      "outputs": []
    },
    {
      "cell_type": "code",
      "metadata": {
        "colab": {
          "base_uri": "https://localhost:8080/"
        },
        "id": "MMjKwtOhYzIC",
        "outputId": "00105f3a-783a-48c2-cae3-55e349d6341e"
      },
      "source": [
        "\n",
        "model = Net().to(device)\n",
        "lr = 0.1\n",
        "optimizer = optim.SGD(model.parameters(), lr=lr, momentum=0.9)\n",
        "\n",
        "train_loss_list = []\n",
        "test_loss_list = []\n",
        "train_accuracy_list=[]\n",
        "test_accuracy_list=[]\n",
        "\n",
        "for epoch in range(0, 15):\n",
        "    print(f\"Epoch {epoch}\")\n",
        "    \n",
        "    train_loss,train_acc = train(model, device, train_loader, optimizer, epoch)\n",
        "   \n",
        "    test_loss,test_acc = test(model, device, test_loader)\n",
        "\n",
        "    train_loss_list.append(train_loss)\n",
        "    test_loss_list.append(test_loss)\n",
        "\n",
        "    train_accuracy_list.append(train_acc)\n",
        "    test_accuracy_list.append(test_acc)\n",
        "\n"
      ],
      "execution_count": null,
      "outputs": [
        {
          "output_type": "stream",
          "text": [
            "\r  0%|          | 0/469 [00:00<?, ?it/s]"
          ],
          "name": "stderr"
        },
        {
          "output_type": "stream",
          "text": [
            "Epoch 0\n"
          ],
          "name": "stdout"
        },
        {
          "output_type": "stream",
          "text": [
            "loss=0.02779441885650158 batch_id=468: 100%|██████████| 469/469 [00:10<00:00, 42.82it/s]"
          ],
          "name": "stderr"
        },
        {
          "output_type": "stream",
          "text": [
            "\n",
            "Train set: Average loss: 0.0010, Accuracy: 57739/60000 (96.23%)\n",
            "\n"
          ],
          "name": "stdout"
        },
        {
          "output_type": "stream",
          "text": [
            "\n",
            "  0%|          | 0/469 [00:00<?, ?it/s]"
          ],
          "name": "stderr"
        },
        {
          "output_type": "stream",
          "text": [
            "\n",
            "Test set: Average loss: 0.0421, Accuracy: 9865/10000 (98.65%)\n",
            "\n",
            "Epoch 1\n"
          ],
          "name": "stdout"
        },
        {
          "output_type": "stream",
          "text": [
            "loss=0.04704548045992851 batch_id=468: 100%|██████████| 469/469 [00:11<00:00, 42.27it/s]"
          ],
          "name": "stderr"
        },
        {
          "output_type": "stream",
          "text": [
            "\n",
            "Train set: Average loss: 0.0004, Accuracy: 59063/60000 (98.44%)\n",
            "\n"
          ],
          "name": "stdout"
        },
        {
          "output_type": "stream",
          "text": [
            "\n",
            "  0%|          | 0/469 [00:00<?, ?it/s]"
          ],
          "name": "stderr"
        },
        {
          "output_type": "stream",
          "text": [
            "\n",
            "Test set: Average loss: 0.0332, Accuracy: 9886/10000 (98.86%)\n",
            "\n",
            "Epoch 2\n"
          ],
          "name": "stdout"
        },
        {
          "output_type": "stream",
          "text": [
            "loss=0.01673988811671734 batch_id=468: 100%|██████████| 469/469 [00:11<00:00, 41.84it/s]"
          ],
          "name": "stderr"
        },
        {
          "output_type": "stream",
          "text": [
            "\n",
            "Train set: Average loss: 0.0003, Accuracy: 59292/60000 (98.82%)\n",
            "\n"
          ],
          "name": "stdout"
        },
        {
          "output_type": "stream",
          "text": [
            "\n",
            "  0%|          | 0/469 [00:00<?, ?it/s]"
          ],
          "name": "stderr"
        },
        {
          "output_type": "stream",
          "text": [
            "\n",
            "Test set: Average loss: 0.0352, Accuracy: 9895/10000 (98.95%)\n",
            "\n",
            "Epoch 3\n"
          ],
          "name": "stdout"
        },
        {
          "output_type": "stream",
          "text": [
            "loss=0.0345219150185585 batch_id=468: 100%|██████████| 469/469 [00:11<00:00, 41.57it/s]"
          ],
          "name": "stderr"
        },
        {
          "output_type": "stream",
          "text": [
            "\n",
            "Train set: Average loss: 0.0003, Accuracy: 59337/60000 (98.89%)\n",
            "\n"
          ],
          "name": "stdout"
        },
        {
          "output_type": "stream",
          "text": [
            "\n",
            "  0%|          | 0/469 [00:00<?, ?it/s]"
          ],
          "name": "stderr"
        },
        {
          "output_type": "stream",
          "text": [
            "\n",
            "Test set: Average loss: 0.0325, Accuracy: 9895/10000 (98.95%)\n",
            "\n",
            "Epoch 4\n"
          ],
          "name": "stdout"
        },
        {
          "output_type": "stream",
          "text": [
            "loss=0.021411888301372528 batch_id=468: 100%|██████████| 469/469 [00:11<00:00, 41.14it/s]"
          ],
          "name": "stderr"
        },
        {
          "output_type": "stream",
          "text": [
            "\n",
            "Train set: Average loss: 0.0002, Accuracy: 59406/60000 (99.01%)\n",
            "\n"
          ],
          "name": "stdout"
        },
        {
          "output_type": "stream",
          "text": [
            "\n",
            "  0%|          | 0/469 [00:00<?, ?it/s]"
          ],
          "name": "stderr"
        },
        {
          "output_type": "stream",
          "text": [
            "\n",
            "Test set: Average loss: 0.0276, Accuracy: 9906/10000 (99.06%)\n",
            "\n",
            "Epoch 5\n"
          ],
          "name": "stdout"
        },
        {
          "output_type": "stream",
          "text": [
            "loss=0.01662941463291645 batch_id=468: 100%|██████████| 469/469 [00:11<00:00, 41.80it/s]"
          ],
          "name": "stderr"
        },
        {
          "output_type": "stream",
          "text": [
            "\n",
            "Train set: Average loss: 0.0002, Accuracy: 59419/60000 (99.03%)\n",
            "\n"
          ],
          "name": "stdout"
        },
        {
          "output_type": "stream",
          "text": [
            "\n",
            "  0%|          | 0/469 [00:00<?, ?it/s]"
          ],
          "name": "stderr"
        },
        {
          "output_type": "stream",
          "text": [
            "\n",
            "Test set: Average loss: 0.0253, Accuracy: 9921/10000 (99.21%)\n",
            "\n",
            "Epoch 6\n"
          ],
          "name": "stdout"
        },
        {
          "output_type": "stream",
          "text": [
            "loss=0.06621386855840683 batch_id=468: 100%|██████████| 469/469 [00:11<00:00, 41.24it/s]"
          ],
          "name": "stderr"
        },
        {
          "output_type": "stream",
          "text": [
            "\n",
            "Train set: Average loss: 0.0002, Accuracy: 59461/60000 (99.10%)\n",
            "\n"
          ],
          "name": "stdout"
        },
        {
          "output_type": "stream",
          "text": [
            "\n",
            "  0%|          | 0/469 [00:00<?, ?it/s]"
          ],
          "name": "stderr"
        },
        {
          "output_type": "stream",
          "text": [
            "\n",
            "Test set: Average loss: 0.0248, Accuracy: 9919/10000 (99.19%)\n",
            "\n",
            "Epoch 7\n"
          ],
          "name": "stdout"
        },
        {
          "output_type": "stream",
          "text": [
            "loss=0.008746642619371414 batch_id=468: 100%|██████████| 469/469 [00:11<00:00, 41.86it/s]"
          ],
          "name": "stderr"
        },
        {
          "output_type": "stream",
          "text": [
            "\n",
            "Train set: Average loss: 0.0002, Accuracy: 59536/60000 (99.23%)\n",
            "\n"
          ],
          "name": "stdout"
        },
        {
          "output_type": "stream",
          "text": [
            "\n",
            "  0%|          | 0/469 [00:00<?, ?it/s]"
          ],
          "name": "stderr"
        },
        {
          "output_type": "stream",
          "text": [
            "\n",
            "Test set: Average loss: 0.0260, Accuracy: 9924/10000 (99.24%)\n",
            "\n",
            "Epoch 8\n"
          ],
          "name": "stdout"
        },
        {
          "output_type": "stream",
          "text": [
            "loss=0.009352699853479862 batch_id=468: 100%|██████████| 469/469 [00:11<00:00, 41.31it/s]"
          ],
          "name": "stderr"
        },
        {
          "output_type": "stream",
          "text": [
            "\n",
            "Train set: Average loss: 0.0002, Accuracy: 59555/60000 (99.26%)\n",
            "\n"
          ],
          "name": "stdout"
        },
        {
          "output_type": "stream",
          "text": [
            "\n",
            "  0%|          | 0/469 [00:00<?, ?it/s]"
          ],
          "name": "stderr"
        },
        {
          "output_type": "stream",
          "text": [
            "\n",
            "Test set: Average loss: 0.0242, Accuracy: 9926/10000 (99.26%)\n",
            "\n",
            "Epoch 9\n"
          ],
          "name": "stdout"
        },
        {
          "output_type": "stream",
          "text": [
            "loss=0.07684176415205002 batch_id=468: 100%|██████████| 469/469 [00:11<00:00, 41.07it/s]"
          ],
          "name": "stderr"
        },
        {
          "output_type": "stream",
          "text": [
            "\n",
            "Train set: Average loss: 0.0002, Accuracy: 59583/60000 (99.31%)\n",
            "\n"
          ],
          "name": "stdout"
        },
        {
          "output_type": "stream",
          "text": [
            "\n",
            "  0%|          | 0/469 [00:00<?, ?it/s]"
          ],
          "name": "stderr"
        },
        {
          "output_type": "stream",
          "text": [
            "\n",
            "Test set: Average loss: 0.0253, Accuracy: 9911/10000 (99.11%)\n",
            "\n",
            "Epoch 10\n"
          ],
          "name": "stdout"
        },
        {
          "output_type": "stream",
          "text": [
            "loss=0.00300612929277122 batch_id=468: 100%|██████████| 469/469 [00:11<00:00, 40.87it/s]"
          ],
          "name": "stderr"
        },
        {
          "output_type": "stream",
          "text": [
            "\n",
            "Train set: Average loss: 0.0002, Accuracy: 59576/60000 (99.29%)\n",
            "\n"
          ],
          "name": "stdout"
        },
        {
          "output_type": "stream",
          "text": [
            "\n",
            "  0%|          | 0/469 [00:00<?, ?it/s]"
          ],
          "name": "stderr"
        },
        {
          "output_type": "stream",
          "text": [
            "\n",
            "Test set: Average loss: 0.0264, Accuracy: 9918/10000 (99.18%)\n",
            "\n",
            "Epoch 11\n"
          ],
          "name": "stdout"
        },
        {
          "output_type": "stream",
          "text": [
            "loss=0.0009461452136747539 batch_id=468: 100%|██████████| 469/469 [00:11<00:00, 42.00it/s]"
          ],
          "name": "stderr"
        },
        {
          "output_type": "stream",
          "text": [
            "\n",
            "Train set: Average loss: 0.0002, Accuracy: 59615/60000 (99.36%)\n",
            "\n"
          ],
          "name": "stdout"
        },
        {
          "output_type": "stream",
          "text": [
            "\n",
            "  0%|          | 0/469 [00:00<?, ?it/s]"
          ],
          "name": "stderr"
        },
        {
          "output_type": "stream",
          "text": [
            "\n",
            "Test set: Average loss: 0.0285, Accuracy: 9912/10000 (99.12%)\n",
            "\n",
            "Epoch 12\n"
          ],
          "name": "stdout"
        },
        {
          "output_type": "stream",
          "text": [
            "loss=0.04866695776581764 batch_id=468: 100%|██████████| 469/469 [00:11<00:00, 41.98it/s]"
          ],
          "name": "stderr"
        },
        {
          "output_type": "stream",
          "text": [
            "\n",
            "Train set: Average loss: 0.0001, Accuracy: 59646/60000 (99.41%)\n",
            "\n"
          ],
          "name": "stdout"
        },
        {
          "output_type": "stream",
          "text": [
            "\n",
            "  0%|          | 0/469 [00:00<?, ?it/s]"
          ],
          "name": "stderr"
        },
        {
          "output_type": "stream",
          "text": [
            "\n",
            "Test set: Average loss: 0.0252, Accuracy: 9917/10000 (99.17%)\n",
            "\n",
            "Epoch 13\n"
          ],
          "name": "stdout"
        },
        {
          "output_type": "stream",
          "text": [
            "loss=0.017056988552212715 batch_id=468: 100%|██████████| 469/469 [00:11<00:00, 42.24it/s]"
          ],
          "name": "stderr"
        },
        {
          "output_type": "stream",
          "text": [
            "\n",
            "Train set: Average loss: 0.0001, Accuracy: 59674/60000 (99.46%)\n",
            "\n"
          ],
          "name": "stdout"
        },
        {
          "output_type": "stream",
          "text": [
            "\n",
            "  0%|          | 0/469 [00:00<?, ?it/s]"
          ],
          "name": "stderr"
        },
        {
          "output_type": "stream",
          "text": [
            "\n",
            "Test set: Average loss: 0.0267, Accuracy: 9928/10000 (99.28%)\n",
            "\n",
            "Epoch 14\n"
          ],
          "name": "stdout"
        },
        {
          "output_type": "stream",
          "text": [
            "loss=0.001780807040631771 batch_id=468: 100%|██████████| 469/469 [00:11<00:00, 41.37it/s]"
          ],
          "name": "stderr"
        },
        {
          "output_type": "stream",
          "text": [
            "\n",
            "Train set: Average loss: 0.0001, Accuracy: 59652/60000 (99.42%)\n",
            "\n"
          ],
          "name": "stdout"
        },
        {
          "output_type": "stream",
          "text": [
            "\n"
          ],
          "name": "stderr"
        },
        {
          "output_type": "stream",
          "text": [
            "\n",
            "Test set: Average loss: 0.0261, Accuracy: 9923/10000 (99.23%)\n",
            "\n"
          ],
          "name": "stdout"
        }
      ]
    },
    {
      "cell_type": "code",
      "metadata": {
        "colab": {
          "base_uri": "https://localhost:8080/",
          "height": 516
        },
        "id": "q1dGQaJK5KD-",
        "outputId": "33203165-024b-48dc-bd62-b18604d5dcec"
      },
      "source": [
        "\n",
        "\n",
        "import numpy as np\n",
        "import matplotlib.pyplot as plt\n",
        "\n",
        "plt.rcParams['figure.figsize'] = [15, 8]\n",
        "\n",
        "plt.subplot(1,2, 1)\n",
        "\n",
        "plt.plot(np.array(train_accuracy_list))\n",
        "plt.plot(np.array(test_accuracy_list), 'r')\n",
        "plt.legend([\"train_accuracy\", \"test_accuracy\"])\n",
        "plt.title(\"Accuracy per epoch\")\n",
        "\n",
        "plt.subplot(1,2,2)\n",
        "plt.plot(train_loss_list)\n",
        "plt.plot(test_loss_list, 'r')\n",
        "plt.legend([\"train_loss\", \"test_loss\"])\n",
        "plt.title(\"Loss per epoch\")\n",
        "\n"
      ],
      "execution_count": null,
      "outputs": [
        {
          "output_type": "execute_result",
          "data": {
            "text/plain": [
              "Text(0.5, 1.0, 'Loss per epoch')"
            ]
          },
          "metadata": {
            "tags": []
          },
          "execution_count": 7
        },
        {
          "output_type": "display_data",
          "data": {
            "image/png": "[encoded data removed]",
            "text/plain": [
              "<Figure size 1080x576 with 2 Axes>"
            ]
          },
          "metadata": {
            "tags": [],
            "needs_background": "light"
          }
        }
      ]
    }
  ]
}