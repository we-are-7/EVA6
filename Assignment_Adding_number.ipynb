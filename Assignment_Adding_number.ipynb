{
  "nbformat": 4,
  "nbformat_minor": 0,
  "metadata": {
    "colab": {
      "name": "Assignment_Adding_number.ipynb",
      "provenance": [],
      "collapsed_sections": [],
      "include_colab_link": true
    },
    "kernelspec": {
      "name": "python3",
      "display_name": "Python 3"
    },
    "language_info": {
      "name": "python"
    },
    "accelerator": "GPU"
  },
  "cells": [
    {
      "cell_type": "markdown",
      "metadata": {
        "id": "view-in-github",
        "colab_type": "text"
      },
      "source": [
        "<a href=\"https://colab.research.google.com/github/we-are-7/EVA6/blob/main/Assignment_Adding_number.ipynb\" target=\"_parent\"><img src=\"https://colab.research.google.com/assets/colab-badge.svg\" alt=\"Open In Colab\"/></a>"
      ]
    },
    {
      "cell_type": "markdown",
      "metadata": {
        "id": "jcJGG2C9GIJD"
      },
      "source": [
        "## 1. Import Libraries"
      ]
    },
    {
      "cell_type": "code",
      "metadata": {
        "id": "p9jtORHHV6v_"
      },
      "source": [
        "#Import libraries needed for the training in pytorch \n",
        "import numpy as np\n",
        "import torch\n",
        "import torchvision\n",
        "import matplotlib.pyplot as plt\n",
        "from time import time\n",
        "from torchvision import datasets, transforms\n",
        "from torch import nn, optim\n",
        "import torch.nn.functional as F\n",
        "from torch.utils.data import Dataset\n",
        "BATCH_SIZE = 64\n"
      ],
      "execution_count": 41,
      "outputs": []
    },
    {
      "cell_type": "markdown",
      "metadata": {
        "id": "gq1cUV2uHJmT"
      },
      "source": [
        "## 2. Data Loader"
      ]
    },
    {
      "cell_type": "code",
      "metadata": {
        "id": "i8gW4I4NGlEB"
      },
      "source": [
        "transform = transforms.Compose([transforms.ToTensor(), transforms.Normalize((0.5,), (0.5,))])\n",
        "trainset = datasets.MNIST(root='./data', download=True, train=True, transform=transform)\n",
        "valset = datasets.MNIST(root='./data', download=True, train=False, transform=transform)"
      ],
      "execution_count": 61,
      "outputs": []
    },
    {
      "cell_type": "markdown",
      "metadata": {
        "id": "gklHehUm-_l3"
      },
      "source": [
        "## 3. Preparing the Network"
      ]
    },
    {
      "cell_type": "code",
      "metadata": {
        "id": "eX4qn8Yf--4Y"
      },
      "source": [
        "class MNISTRandCombinedDataset(Dataset):\n",
        "    def __init__(self, mnist):\n",
        "        self.mnist = mnist\n",
        "\n",
        "    def __len__(self):\n",
        "        return len(self.mnist)\n",
        "\n",
        "    def __getitem__(self, idx):\n",
        "        image, label = self.mnist[idx]\n",
        "        random_number = torch.randint(0, 9, (1,)).item()\n",
        "        sum_label = label + random_number\n",
        "        return image, F.one_hot(torch.tensor(random_number), num_classes=10), label, sum_label"
      ],
      "execution_count": 62,
      "outputs": []
    },
    {
      "cell_type": "code",
      "metadata": {
        "id": "aIrTxIzrACed"
      },
      "source": [
        "\n",
        "trainsetcombination = MNISTRandCombinedDataset(trainset)\n",
        "traindataloader = torch.utils.data.DataLoader(trainsetcombination,\n",
        "                                               batch_size=BATCH_SIZE,\n",
        "                                               shuffle=False,\n",
        "                                               )\n",
        "valsetcombination = MNISTRandCombinedDataset(valset)\n",
        "traindataloader = torch.utils.data.DataLoader(valsetcombination,\n",
        "                                               batch_size=BATCH_SIZE,\n",
        "                                               shuffle=False,\n",
        "                                               )\n",
        "\n"
      ],
      "execution_count": 66,
      "outputs": []
    },
    {
      "cell_type": "markdown",
      "metadata": {
        "id": "hzZaoVeDBx78"
      },
      "source": [
        "## 2. Neural Network"
      ]
    },
    {
      "cell_type": "code",
      "metadata": {
        "id": "jj0vQqcJB26o"
      },
      "source": [
        "class NeuralNetwork(nn.Module):\n",
        "  def __init__(self):\n",
        "    super().__init__()\n",
        "    \n",
        "    self.out_classes = 10\n",
        "\n",
        "    self.conv1 = nn.Conv2d(1, 32, 3, padding=2) \n",
        "    self.conv2 = nn.Conv2d(32, 64, 3, padding=1)   \n",
        "    self.pool1 = nn.MaxPool2d(2, stride=2)  \n",
        "\n",
        "    self.conv5 = nn.Conv2d(64, 128, 3, padding=1)  \n",
        "    self.conv6 = nn.Conv2d(128, 256, 3, padding=1)  \n",
        "    self.pool2 = nn.MaxPool2d(2, stride=2)\n",
        "\n",
        "    self.conv7 = nn.Conv2d(256, 512, 3)\n",
        "    self.conv8 = nn.Conv2d(512, 1024, 3)\n",
        "    self.conv9 = nn.Conv2d(1024, 10, 3)\n",
        "    \n",
        "    self.combined_netw()\n",
        "\n",
        "  def combined_netw(self):\n",
        "    self.comL1 = nn.Linear(self.out_classes + 10, 100)\n",
        "    self.comL2 = nn.Linear(100, 40)\n",
        "    self.comL3 = nn.Linear(40, 1)\n",
        "\n",
        "  def forward(self, x1, x2):\n",
        "    t = x1\n",
        "    t = self.pool1(F.relu(self.conv2(F.relu( self.conv1(t) ))))\n",
        "    t = (self.pool2(F.relu(self.conv6(F.relu(self.conv5(t) )))))\n",
        "    t = self.conv9(F.relu(self.conv8(F.relu( self.conv7(t) ))))\n",
        "\n",
        "    t = t.view(-1, 10)\n",
        "    out1 = F.log_softmax(t, dim=1)\n",
        "    in2 = torch.cat((out1, x2.view(-1, 10)), dim=1)\n",
        "\n",
        "    out = self.comL3( \n",
        "        F.relu(self.comL2( \n",
        "        F.relu( self.comL1(in2) ))))\n",
        "    return out1, out\n",
        "\n",
        "use_cuda = torch.cuda.is_available()\n",
        "device = torch.device(\"cuda\" if use_cuda else \"cpu\")\n",
        "model = NeuralNetwork().to(device)"
      ],
      "execution_count": 67,
      "outputs": []
    },
    {
      "cell_type": "code",
      "metadata": {
        "colab": {
          "base_uri": "https://localhost:8080/"
        },
        "id": "C8UbsquiDA3q",
        "outputId": "c573013c-8321-4244-8e05-46902d577156"
      },
      "source": [
        "def train_network(model, optimizer):\n",
        "  \n",
        "  n_train = len(train_set)\n",
        "  for epoch in range(5):\n",
        "    totalloss = 0\n",
        "    totalcorrect1=0\n",
        "    totalcorrect2=0\n",
        "\n",
        "    model.train()\n",
        "\n",
        "    for idx, batch in enumerate(traindataloader):\n",
        "      x1, x2, target1, target2 = batch\n",
        "      x1, x2, target1, target2 = x1.to(device), x2.to(device), target1.to(device), target2.to(device)\n",
        "\n",
        "      optimizer.zero_grad()\n",
        "\n",
        "      out1, out2 = model(x1, x2)\n",
        "\n",
        "      loss1 = F.nll_loss(out1, target1)\n",
        "      loss2 = F.mse_loss(out2.squeeze(1), target2.float())\n",
        "      loss = 0.2*loss1 + 0.8*loss2\n",
        "\n",
        "      loss.backward()\n",
        "      optimizer.step()\n",
        "      \n",
        "      totalloss += loss.item()\n",
        "      totalcorrect1 +=out1.argmax(dim=1).eq(target1).sum().item()\n",
        "      totalcorrect2 += out2.int().squeeze(1).eq(target2).sum().item()\n",
        "    print(\n",
        "        \"epoch \", epoch,\n",
        "        \"loss: \",  totalloss/(n_train/BATCH_SIZE), \n",
        "        \"acc Output1\", 100* totalcorrect1/n_train,\n",
        "        \"acc Output2\", 100* totalcorrect2/n_train,        \n",
        "    )\n",
        "\n",
        "model = NeuralNetwork().to(device)\n",
        "optimizer = optim.Adam(model.parameters(), lr=0.001)\n",
        "\n",
        "train_network(model, optimizer)"
      ],
      "execution_count": 68,
      "outputs": [
        {
          "output_type": "stream",
          "text": [
            "epoch  0 loss:  2.783161577351888 acc Output1 2.2283333333333335 acc Output2 1.6016666666666666\n",
            "epoch  1 loss:  1.1535216952006022 acc Output1 6.78 acc Output2 2.308333333333333\n",
            "epoch  2 loss:  0.4705895374298096 acc Output1 9.048333333333334 acc Output2 4.365\n",
            "epoch  3 loss:  0.19084629987080892 acc Output1 11.131666666666666 acc Output2 6.858333333333333\n",
            "epoch  4 loss:  0.13394888264338176 acc Output1 12.423333333333334 acc Output2 7.443333333333333\n"
          ],
          "name": "stdout"
        }
      ]
    },
    {
      "cell_type": "markdown",
      "metadata": {
        "id": "HIj94UtqKswZ"
      },
      "source": [
        ""
      ]
    },
    {
      "cell_type": "markdown",
      "metadata": {
        "id": "39OT08Ue-aMm"
      },
      "source": [
        "## experimental code to learn MNIST data"
      ]
    },
    {
      "cell_type": "markdown",
      "metadata": {
        "id": "9KDg41nT-Xe7"
      },
      "source": [
        ""
      ]
    },
    {
      "cell_type": "code",
      "metadata": {
        "id": "GdjNFPoOZEh3"
      },
      "source": [
        "import numpy as np \n",
        "import matplotlib.pyplot as plt\n",
        "\n",
        "torch.set_printoptions(linewidth =120)"
      ],
      "execution_count": null,
      "outputs": []
    },
    {
      "cell_type": "code",
      "metadata": {
        "colab": {
          "base_uri": "https://localhost:8080/"
        },
        "id": "cghZ0xQxX3-3",
        "outputId": "377f7d01-9407-462d-a868-e95182254e32"
      },
      "source": [
        "len(train_set)"
      ],
      "execution_count": null,
      "outputs": [
        {
          "output_type": "execute_result",
          "data": {
            "text/plain": [
              "60000"
            ]
          },
          "metadata": {
            "tags": []
          },
          "execution_count": 6
        }
      ]
    },
    {
      "cell_type": "code",
      "metadata": {
        "colab": {
          "base_uri": "https://localhost:8080/"
        },
        "id": "3Z-4po4BYs00",
        "outputId": "f539e2a9-6c15-4409-932d-79e909d2cf6a"
      },
      "source": [
        "len(train_loader)"
      ],
      "execution_count": null,
      "outputs": [
        {
          "output_type": "execute_result",
          "data": {
            "text/plain": [
              "1875"
            ]
          },
          "metadata": {
            "tags": []
          },
          "execution_count": 7
        }
      ]
    },
    {
      "cell_type": "code",
      "metadata": {
        "colab": {
          "base_uri": "https://localhost:8080/"
        },
        "id": "WUk_C75LYxIY",
        "outputId": "6d54a575-9a62-4be1-8d3d-52ea68fb8e10"
      },
      "source": [
        "train_set.train_labels"
      ],
      "execution_count": null,
      "outputs": [
        {
          "output_type": "stream",
          "text": [
            "/usr/local/lib/python3.7/dist-packages/torchvision/datasets/mnist.py:54: UserWarning: train_labels has been renamed targets\n",
            "  warnings.warn(\"train_labels has been renamed targets\")\n"
          ],
          "name": "stderr"
        },
        {
          "output_type": "execute_result",
          "data": {
            "text/plain": [
              "tensor([5, 0, 4,  ..., 5, 6, 8])"
            ]
          },
          "metadata": {
            "tags": []
          },
          "execution_count": 8
        }
      ]
    },
    {
      "cell_type": "code",
      "metadata": {
        "colab": {
          "base_uri": "https://localhost:8080/"
        },
        "id": "30jtE1CfY66E",
        "outputId": "966c9385-90cb-4227-9e38-fcfe6272f348"
      },
      "source": [
        "train_set.train_labels.bincount()"
      ],
      "execution_count": null,
      "outputs": [
        {
          "output_type": "stream",
          "text": [
            "/usr/local/lib/python3.7/dist-packages/torchvision/datasets/mnist.py:54: UserWarning: train_labels has been renamed targets\n",
            "  warnings.warn(\"train_labels has been renamed targets\")\n"
          ],
          "name": "stderr"
        },
        {
          "output_type": "execute_result",
          "data": {
            "text/plain": [
              "tensor([5923, 6742, 5958, 6131, 5842, 5421, 5918, 6265, 5851, 5949])"
            ]
          },
          "metadata": {
            "tags": []
          },
          "execution_count": 9
        }
      ]
    },
    {
      "cell_type": "code",
      "metadata": {
        "colab": {
          "base_uri": "https://localhost:8080/"
        },
        "id": "Mn3xsy6qZOky",
        "outputId": "432b597b-d02c-44ac-bcbe-3f94caef9213"
      },
      "source": [
        "sample = next(iter(train_set))\n",
        "print(len(sample))\n",
        "print(type(sample))"
      ],
      "execution_count": null,
      "outputs": [
        {
          "output_type": "stream",
          "text": [
            "2\n",
            "<class 'tuple'>\n"
          ],
          "name": "stdout"
        }
      ]
    },
    {
      "cell_type": "code",
      "metadata": {
        "colab": {
          "base_uri": "https://localhost:8080/",
          "height": 283
        },
        "id": "10IoO-m8ZWAh",
        "outputId": "99b7b46d-0464-45c7-9037-44f6232080f6"
      },
      "source": [
        "image,label = sample\n",
        "plt.imshow(image.squeeze(), cmap ='gray')\n",
        "print('label:', label)"
      ],
      "execution_count": null,
      "outputs": [
        {
          "output_type": "stream",
          "text": [
            "label: 5\n"
          ],
          "name": "stdout"
        },
        {
          "output_type": "display_data",
          "data": {
            "image/png": "[encoded data removed]",
            "text/plain": [
              "<Figure size 432x288 with 1 Axes>"
            ]
          },
          "metadata": {
            "tags": [],
            "needs_background": "light"
          }
        }
      ]
    },
    {
      "cell_type": "code",
      "metadata": {
        "colab": {
          "base_uri": "https://localhost:8080/"
        },
        "id": "m7SPvgH7ZZWm",
        "outputId": "a832269c-2671-49d9-f267-47224af0b460"
      },
      "source": [
        "batch = next(iter(train_loader))\n",
        "print(len(batch))\n",
        "print(type(batch))"
      ],
      "execution_count": null,
      "outputs": [
        {
          "output_type": "stream",
          "text": [
            "2\n",
            "<class 'list'>\n"
          ],
          "name": "stdout"
        }
      ]
    },
    {
      "cell_type": "code",
      "metadata": {
        "colab": {
          "base_uri": "https://localhost:8080/"
        },
        "id": "bhhW3YCRZvUZ",
        "outputId": "cf0a8e18-a34a-4a12-a762-9a9c49dea763"
      },
      "source": [
        "images ,labels = batch\n",
        "print(labels.shape)\n"
      ],
      "execution_count": null,
      "outputs": [
        {
          "output_type": "stream",
          "text": [
            "torch.Size([32])\n"
          ],
          "name": "stdout"
        }
      ]
    },
    {
      "cell_type": "code",
      "metadata": {
        "colab": {
          "base_uri": "https://localhost:8080/"
        },
        "id": "06NeVWdbZvXh",
        "outputId": "eef8bb22-96cc-4b48-af9e-bbf54c86cc73"
      },
      "source": [
        "print(image.shape)\n",
        "print(images.shape)"
      ],
      "execution_count": null,
      "outputs": [
        {
          "output_type": "stream",
          "text": [
            "torch.Size([1, 28, 28])\n",
            "torch.Size([32, 1, 28, 28])\n"
          ],
          "name": "stdout"
        }
      ]
    },
    {
      "cell_type": "code",
      "metadata": {
        "colab": {
          "base_uri": "https://localhost:8080/",
          "height": 407
        },
        "id": "YxhBvjgTZvbI",
        "outputId": "75489f97-71ab-441f-c8ed-32d60cfc8103"
      },
      "source": [
        "grid = torchvision.utils.make_grid(images, nrow=10)\n",
        "plt.figure(figsize=(15,15))\n",
        "plt.imshow(np.transpose(grid, (1,2,0)))\n",
        "print('labels:', labels)"
      ],
      "execution_count": null,
      "outputs": [
        {
          "output_type": "stream",
          "text": [
            "labels: tensor([6, 1, 3, 4, 2, 5, 8, 3, 2, 2, 1, 8, 2, 7, 2, 0, 5, 9, 5, 9, 0, 3, 3, 1, 8, 8, 2, 8, 1, 5, 7, 5])\n"
          ],
          "name": "stdout"
        },
        {
          "output_type": "display_data",
          "data": {
            "image/png": "[encoded data removed]",
            "text/plain": [
              "<Figure size 1080x1080 with 1 Axes>"
            ]
          },
          "metadata": {
            "tags": [],
            "needs_background": "light"
          }
        }
      ]
    },
    {
      "cell_type": "code",
      "metadata": {
        "colab": {
          "base_uri": "https://localhost:8080/"
        },
        "id": "zLSuuQcqZveY",
        "outputId": "b4539e19-0719-4a8b-a038-0a78222bd8ea"
      },
      "source": [
        "# Train NN\n",
        "import torch.nn as nn\n",
        "import torch.nn.functional as F\n",
        "input_size = 784\n",
        "hidden_sizes = [128, 64]\n",
        "output_size = 10\n",
        "model = nn.Sequential(nn.Linear(input_size, hidden_sizes[0]),\n",
        "                      nn.ReLU(),\n",
        "                      nn.Linear(hidden_sizes[0], hidden_sizes[1]),\n",
        "                      nn.ReLU(),\n",
        "                      nn.Linear(hidden_sizes[1], output_size),\n",
        "                      nn.LogSoftmax(dim=1))\n",
        "print(model)"
      ],
      "execution_count": null,
      "outputs": [
        {
          "output_type": "stream",
          "text": [
            "Sequential(\n",
            "  (0): Linear(in_features=784, out_features=128, bias=True)\n",
            "  (1): ReLU()\n",
            "  (2): Linear(in_features=128, out_features=64, bias=True)\n",
            "  (3): ReLU()\n",
            "  (4): Linear(in_features=64, out_features=10, bias=True)\n",
            "  (5): LogSoftmax(dim=1)\n",
            ")\n"
          ],
          "name": "stdout"
        }
      ]
    },
    {
      "cell_type": "code",
      "metadata": {
        "id": "HRaCZMGeYAFn",
        "colab": {
          "base_uri": "https://localhost:8080/",
          "height": 322
        },
        "outputId": "97bf2768-aa38-4588-999c-8333253433cb"
      },
      "source": [
        "from torchsummary import summary\n",
        "use_cuda = torch.cuda.is_available()\n",
        "device = torch.device(\"cuda\" if use_cuda else \"cpu\")\n",
        "model = model().to(device)"
      ],
      "execution_count": null,
      "outputs": [
        {
          "output_type": "error",
          "ename": "TypeError",
          "evalue": "ignored",
          "traceback": [
            "\u001b[0;31m---------------------------------------------------------------------------\u001b[0m",
            "\u001b[0;31mTypeError\u001b[0m                                 Traceback (most recent call last)",
            "\u001b[0;32m<ipython-input-18-d5ce5dd6b92e>\u001b[0m in \u001b[0;36m<module>\u001b[0;34m()\u001b[0m\n\u001b[1;32m      2\u001b[0m \u001b[0muse_cuda\u001b[0m \u001b[0;34m=\u001b[0m \u001b[0mtorch\u001b[0m\u001b[0;34m.\u001b[0m\u001b[0mcuda\u001b[0m\u001b[0;34m.\u001b[0m\u001b[0mis_available\u001b[0m\u001b[0;34m(\u001b[0m\u001b[0;34m)\u001b[0m\u001b[0;34m\u001b[0m\u001b[0;34m\u001b[0m\u001b[0m\n\u001b[1;32m      3\u001b[0m \u001b[0mdevice\u001b[0m \u001b[0;34m=\u001b[0m \u001b[0mtorch\u001b[0m\u001b[0;34m.\u001b[0m\u001b[0mdevice\u001b[0m\u001b[0;34m(\u001b[0m\u001b[0;34m\"cuda\"\u001b[0m \u001b[0;32mif\u001b[0m \u001b[0muse_cuda\u001b[0m \u001b[0;32melse\u001b[0m \u001b[0;34m\"cpu\"\u001b[0m\u001b[0;34m)\u001b[0m\u001b[0;34m\u001b[0m\u001b[0;34m\u001b[0m\u001b[0m\n\u001b[0;32m----> 4\u001b[0;31m \u001b[0mmodel\u001b[0m \u001b[0;34m=\u001b[0m \u001b[0mmodel\u001b[0m\u001b[0;34m(\u001b[0m\u001b[0;34m)\u001b[0m\u001b[0;34m.\u001b[0m\u001b[0mto\u001b[0m\u001b[0;34m(\u001b[0m\u001b[0mdevice\u001b[0m\u001b[0;34m)\u001b[0m\u001b[0;34m\u001b[0m\u001b[0;34m\u001b[0m\u001b[0m\n\u001b[0m",
            "\u001b[0;32m/usr/local/lib/python3.7/dist-packages/torch/nn/modules/module.py\u001b[0m in \u001b[0;36m_call_impl\u001b[0;34m(self, *input, **kwargs)\u001b[0m\n\u001b[1;32m    887\u001b[0m             \u001b[0mresult\u001b[0m \u001b[0;34m=\u001b[0m \u001b[0mself\u001b[0m\u001b[0;34m.\u001b[0m\u001b[0m_slow_forward\u001b[0m\u001b[0;34m(\u001b[0m\u001b[0;34m*\u001b[0m\u001b[0minput\u001b[0m\u001b[0;34m,\u001b[0m \u001b[0;34m**\u001b[0m\u001b[0mkwargs\u001b[0m\u001b[0;34m)\u001b[0m\u001b[0;34m\u001b[0m\u001b[0;34m\u001b[0m\u001b[0m\n\u001b[1;32m    888\u001b[0m         \u001b[0;32melse\u001b[0m\u001b[0;34m:\u001b[0m\u001b[0;34m\u001b[0m\u001b[0;34m\u001b[0m\u001b[0m\n\u001b[0;32m--> 889\u001b[0;31m             \u001b[0mresult\u001b[0m \u001b[0;34m=\u001b[0m \u001b[0mself\u001b[0m\u001b[0;34m.\u001b[0m\u001b[0mforward\u001b[0m\u001b[0;34m(\u001b[0m\u001b[0;34m*\u001b[0m\u001b[0minput\u001b[0m\u001b[0;34m,\u001b[0m \u001b[0;34m**\u001b[0m\u001b[0mkwargs\u001b[0m\u001b[0;34m)\u001b[0m\u001b[0;34m\u001b[0m\u001b[0;34m\u001b[0m\u001b[0m\n\u001b[0m\u001b[1;32m    890\u001b[0m         for hook in itertools.chain(\n\u001b[1;32m    891\u001b[0m                 \u001b[0m_global_forward_hooks\u001b[0m\u001b[0;34m.\u001b[0m\u001b[0mvalues\u001b[0m\u001b[0;34m(\u001b[0m\u001b[0;34m)\u001b[0m\u001b[0;34m,\u001b[0m\u001b[0;34m\u001b[0m\u001b[0;34m\u001b[0m\u001b[0m\n",
            "\u001b[0;31mTypeError\u001b[0m: forward() missing 1 required positional argument: 'input'"
          ]
        }
      ]
    },
    {
      "cell_type": "code",
      "metadata": {
        "id": "SYZK6tpPaoxR"
      },
      "source": [
        "criterion = nn.NLLLoss()\n",
        "images, labels = next(iter(train_loader))\n",
        "images = images.view(images.shape[0], -1)\n",
        "\n",
        "logps = model(images) #log probabilities\n",
        "loss = criterion(logps, labels) #calculate the NLL loss\n",
        "\n"
      ],
      "execution_count": null,
      "outputs": []
    },
    {
      "cell_type": "code",
      "metadata": {
        "colab": {
          "base_uri": "https://localhost:8080/"
        },
        "id": "g626aNdDaz9m",
        "outputId": "557cb6ca-28fe-4f21-9b1a-bef8a76253e6"
      },
      "source": [
        "print('Before backward pass: \\n', model[0].weight.grad)\n",
        "loss.backward()\n",
        "print('After backward pass: \\n', model[0].weight.grad)"
      ],
      "execution_count": null,
      "outputs": [
        {
          "output_type": "stream",
          "text": [
            "Before backward pass: \n",
            " None\n",
            "After backward pass: \n",
            " tensor([[0., 0., 0.,  ..., 0., 0., 0.],\n",
            "        [0., 0., 0.,  ..., 0., 0., 0.],\n",
            "        [0., 0., 0.,  ..., 0., 0., 0.],\n",
            "        ...,\n",
            "        [0., 0., 0.,  ..., 0., 0., 0.],\n",
            "        [0., 0., 0.,  ..., 0., 0., 0.],\n",
            "        [0., 0., 0.,  ..., 0., 0., 0.]])\n"
          ],
          "name": "stdout"
        }
      ]
    },
    {
      "cell_type": "code",
      "metadata": {
        "colab": {
          "base_uri": "https://localhost:8080/"
        },
        "id": "qc6CzfAR4iej",
        "outputId": "6d9c83af-61a2-4a2b-ba5c-005966589eed"
      },
      "source": [
        "optimizer = optim.SGD(model.parameters(), lr=0.003, momentum=0.9)\n",
        "time0 = time()\n",
        "epochs = 10\n",
        "for e in range(epochs):\n",
        "    running_loss = 0\n",
        "    for images, labels in train_loader:\n",
        "        # Flatten MNIST images into a 784 long vector\n",
        "        images = images.view(images.shape[0], -1)\n",
        "    \n",
        "        # Training pass\n",
        "        optimizer.zero_grad()\n",
        "        \n",
        "        output = model(images)\n",
        "        loss = criterion(output, labels)\n",
        "        \n",
        "        #This is where the model learns by backpropagating\n",
        "        loss.backward()\n",
        "        \n",
        "        #And optimizes its weights here\n",
        "        optimizer.step()\n",
        "        \n",
        "        running_loss += loss.item()\n",
        "    else:\n",
        "        print(\"Epoch {} - Training loss: {}\".format(e, running_loss/len(train_loader)))"
      ],
      "execution_count": null,
      "outputs": [
        {
          "output_type": "stream",
          "text": [
            "Epoch 0 - Training loss: 0.6339038550933203\n",
            "Epoch 1 - Training loss: 0.2599316198607286\n",
            "Epoch 2 - Training loss: 0.18740446405212086\n",
            "Epoch 3 - Training loss: 0.14547615432292224\n",
            "Epoch 4 - Training loss: 0.11764347486570477\n",
            "Epoch 5 - Training loss: 0.09874676115165154\n",
            "Epoch 6 - Training loss: 0.08398722166866064\n",
            "Epoch 7 - Training loss: 0.07321256848300496\n",
            "Epoch 8 - Training loss: 0.06390584533462922\n",
            "Epoch 9 - Training loss: 0.05733418859038502\n"
          ],
          "name": "stdout"
        }
      ]
    },
    {
      "cell_type": "code",
      "metadata": {
        "id": "WHgHkt0A4iho"
      },
      "source": [
        "valset = torchvision.datasets.MNIST(root='./data', download=True, train=False, transform=transforms.Compose([transforms.ToTensor()]))\n",
        "valloader = torch.utils.data.DataLoader(valset, batch_size=64, shuffle=True)"
      ],
      "execution_count": null,
      "outputs": []
    },
    {
      "cell_type": "code",
      "metadata": {
        "id": "1RMq3UW56VcP"
      },
      "source": [
        ""
      ],
      "execution_count": null,
      "outputs": []
    },
    {
      "cell_type": "code",
      "metadata": {
        "colab": {
          "base_uri": "https://localhost:8080/"
        },
        "id": "baNLEd_s4izX",
        "outputId": "bbb5c68a-caf4-4da1-b25f-69b33a9fae26"
      },
      "source": [
        "images, labels = next(iter(valloader))\n",
        "\n",
        "img = images[0].view(1, 784)\n",
        "\n",
        "with torch.no_grad():\n",
        "    logps = model(img)\n",
        "\n",
        "ps = torch.exp(logps)\n",
        "probab = list(ps.numpy()[0])\n",
        "print(\"Predicted Digit =\", probab.index(max(probab)))\n",
        "#classify(img.view(1, 28, 28), ps)"
      ],
      "execution_count": null,
      "outputs": [
        {
          "output_type": "stream",
          "text": [
            "Predicted Digit = 5\n"
          ],
          "name": "stdout"
        }
      ]
    },
    {
      "cell_type": "code",
      "metadata": {
        "colab": {
          "base_uri": "https://localhost:8080/",
          "height": 300
        },
        "id": "8KacWsJNcavB",
        "outputId": "6ace245b-2baf-4819-ca90-9e081b8d312f"
      },
      "source": [
        "plt.imshow(img.view(1, 28, 28).squeeze())\n",
        "ps"
      ],
      "execution_count": null,
      "outputs": [
        {
          "output_type": "execute_result",
          "data": {
            "text/plain": [
              "tensor([[1.0521e-04, 3.7524e-02, 4.0340e-04, 1.2881e-01, 9.9902e-03, 7.8300e-01, 2.1696e-02, 3.4610e-04, 1.1503e-02,\n",
              "         6.6251e-03]])"
            ]
          },
          "metadata": {
            "tags": []
          },
          "execution_count": 24
        },
        {
          "output_type": "display_data",
          "data": {
            "image/png": "[encoded data removed]",
            "text/plain": [
              "<Figure size 432x288 with 1 Axes>"
            ]
          },
          "metadata": {
            "tags": [],
            "needs_background": "light"
          }
        }
      ]
    },
    {
      "cell_type": "code",
      "metadata": {
        "colab": {
          "base_uri": "https://localhost:8080/"
        },
        "id": "DQzDZNp-w4hJ",
        "outputId": "8aac9693-fdc5-43f0-e71a-c5d5ef08d175"
      },
      "source": [
        "correct_count, all_count = 0, 0\n",
        "for images,labels in valloader:\n",
        "  for i in range(len(labels)):\n",
        "    img = images[i].view(1, 784)\n",
        "    with torch.no_grad():\n",
        "        logps = model(img)\n",
        "\n",
        "    \n",
        "    ps = torch.exp(logps)\n",
        "    probab = list(ps.numpy()[0])\n",
        "    pred_label = probab.index(max(probab))\n",
        "    true_label = labels.numpy()[i]\n",
        "    if(true_label == pred_label):\n",
        "      correct_count += 1\n",
        "    all_count += 1\n",
        "\n",
        "print(\"Number Of Images Tested =\", all_count)\n",
        "print(\"\\nModel Accuracy =\", (correct_count/all_count))"
      ],
      "execution_count": null,
      "outputs": [
        {
          "output_type": "stream",
          "text": [
            "Number Of Images Tested = 10000\n",
            "\n",
            "Model Accuracy = 0.9739\n"
          ],
          "name": "stdout"
        }
      ]
    },
    {
      "cell_type": "code",
      "metadata": {
        "id": "SeSSmOCo0oZM"
      },
      "source": [
        ""
      ],
      "execution_count": null,
      "outputs": []
    },
    {
      "cell_type": "code",
      "metadata": {
        "id": "jE1fT5wM-dUf"
      },
      "source": [
        ""
      ],
      "execution_count": null,
      "outputs": []
    },
    {
      "cell_type": "code",
      "metadata": {
        "colab": {
          "base_uri": "https://localhost:8080/"
        },
        "id": "RRVC4kMW_1Pb",
        "outputId": "693fda55-10a0-42cd-d57b-6de4fa9ccb5e"
      },
      "source": [
        "t.dtype\n",
        "t.device"
      ],
      "execution_count": null,
      "outputs": [
        {
          "output_type": "execute_result",
          "data": {
            "text/plain": [
              "device(type='cpu')"
            ]
          },
          "metadata": {
            "tags": []
          },
          "execution_count": 110
        }
      ]
    },
    {
      "cell_type": "code",
      "metadata": {
        "colab": {
          "base_uri": "https://localhost:8080/"
        },
        "id": "q3l_ATcI_4Gq",
        "outputId": "50c9fd5f-4499-4329-ad9e-006b81d6ae7e"
      },
      "source": [
        "device = torch.device ('cuda:0')\n",
        "device"
      ],
      "execution_count": null,
      "outputs": [
        {
          "output_type": "execute_result",
          "data": {
            "text/plain": [
              "device(type='cuda', index=0)"
            ]
          },
          "metadata": {
            "tags": []
          },
          "execution_count": 102
        }
      ]
    },
    {
      "cell_type": "code",
      "metadata": {
        "id": "lArFj85S_6v7"
      },
      "source": [
        "#Another NN'\n",
        "import torch\n",
        "import torch.nn as nn\n",
        "import torch.optim as optim\n",
        "import torch.nn.functional as F\n",
        "\n",
        "from torchvision import datasets, transforms\n",
        "from torch.optim.lr_scheduler import StepLR\n",
        "\n",
        "# 1. Build a computation graph\n",
        "class Net(nn.Module):\n",
        "    def __init__(self):\n",
        "        super(Net, self).__init__()\n",
        "        self.conv1 = nn.Conv2d(1, 32, 3, 1)\n",
        "        self.conv2 = nn.Conv2d(32, 64, 3, 1)\n",
        "        self.fc = nn.Linear(1024, 10)\n",
        "\n",
        "    def forward(self, x):\n",
        "        x = F.relu(self.conv1(x))\n",
        "        x = F.relu(self.conv2(x))\n",
        "        x = F.max_pool2d(x, 1)\n",
        "        x = torch.flatten(x, 1)\n",
        "        x = self.fc(x)\n",
        "        output = F.log_softmax(x, dim=1)\n",
        "        return output\n",
        "net = Net()\n"
      ],
      "execution_count": null,
      "outputs": []
    },
    {
      "cell_type": "code",
      "metadata": {
        "colab": {
          "base_uri": "https://localhost:8080/"
        },
        "id": "7kUYg50JRF-L",
        "outputId": "6c1a069b-d160-46eb-8965-f2625ae3a78c"
      },
      "source": [
        "print(net)"
      ],
      "execution_count": null,
      "outputs": [
        {
          "output_type": "stream",
          "text": [
            "Net(\n",
            "  (conv1): Conv2d(1, 32, kernel_size=(3, 3), stride=(1, 1))\n",
            "  (conv2): Conv2d(32, 64, kernel_size=(3, 3), stride=(1, 1))\n",
            "  (fc): Linear(in_features=1024, out_features=10, bias=True)\n",
            ")\n"
          ],
          "name": "stdout"
        }
      ]
    },
    {
      "cell_type": "code",
      "metadata": {
        "colab": {
          "base_uri": "https://localhost:8080/"
        },
        "id": "DbIkfu71RN_1",
        "outputId": "dc30dcf7-84b2-4905-a57a-694fef857d7c"
      },
      "source": [
        "for param in net.parameters():\n",
        "  print(param.shape)"
      ],
      "execution_count": null,
      "outputs": [
        {
          "output_type": "stream",
          "text": [
            "torch.Size([32, 1, 3, 3])\n",
            "torch.Size([32])\n",
            "torch.Size([64, 32, 3, 3])\n",
            "torch.Size([64])\n",
            "torch.Size([10, 1024])\n",
            "torch.Size([10])\n"
          ],
          "name": "stdout"
        }
      ]
    },
    {
      "cell_type": "code",
      "metadata": {
        "id": "s4W4iUtND2D9"
      },
      "source": [
        "optimizer = optim.Adadelta(net.parameters(), lr=1.)  # 2. Setup optimizer\n",
        "criterion = nn.NLLLoss()  # 3. Setup criterion"
      ],
      "execution_count": null,
      "outputs": []
    },
    {
      "cell_type": "code",
      "metadata": {
        "id": "6iHOfp0fD4L-"
      },
      "source": [
        "transform = transforms.Compose([\n",
        "    transforms.Resize((8, 8)),\n",
        "    transforms.ToTensor(),\n",
        "    transforms.Normalize((0.1307,), (0.3081,))\n",
        "])\n",
        "train_dataset = datasets.MNIST(\n",
        "    'data', train=True, download=True, transform=transform)\n",
        "train_loader = torch.utils.data.DataLoader(train_dataset, batch_size=512)"
      ],
      "execution_count": null,
      "outputs": []
    },
    {
      "cell_type": "code",
      "metadata": {
        "colab": {
          "base_uri": "https://localhost:8080/"
        },
        "id": "3g8-1xbXFOdf",
        "outputId": "09c8161d-d853-42e3-d5cb-228c568b133c"
      },
      "source": [
        "for inputs, target in train_loader:\n",
        "    output = net(inputs)\n",
        "    loss = criterion(output, target)\n",
        "    print(round(loss.item(), 2))\n",
        "\n",
        "    net.zero_grad()\n",
        "    loss.backward()\n",
        "    optimizer.step()"
      ],
      "execution_count": null,
      "outputs": [
        {
          "output_type": "stream",
          "text": [
            "2.32\n",
            "2.21\n",
            "2.09\n",
            "1.9\n",
            "1.64\n",
            "1.38\n",
            "1.27\n",
            "1.38\n",
            "1.2\n",
            "1.04\n",
            "0.82\n",
            "0.8\n",
            "0.94\n",
            "0.93\n",
            "0.81\n",
            "0.66\n",
            "0.82\n",
            "0.88\n",
            "0.67\n",
            "0.58\n",
            "0.57\n",
            "0.84\n",
            "0.73\n",
            "0.58\n",
            "0.64\n",
            "0.6\n",
            "0.49\n",
            "0.6\n",
            "0.68\n",
            "0.45\n",
            "0.49\n",
            "0.46\n",
            "0.48\n",
            "0.49\n",
            "0.58\n",
            "0.36\n",
            "0.4\n",
            "0.44\n",
            "0.38\n",
            "0.47\n",
            "0.66\n",
            "0.47\n",
            "0.34\n",
            "0.39\n",
            "0.4\n",
            "0.41\n",
            "0.38\n",
            "0.44\n",
            "0.43\n",
            "0.35\n",
            "0.3\n",
            "0.38\n",
            "0.39\n",
            "0.37\n",
            "0.34\n",
            "0.38\n",
            "0.35\n",
            "0.31\n",
            "0.49\n",
            "0.42\n",
            "0.44\n",
            "0.48\n",
            "0.34\n",
            "0.38\n",
            "0.34\n",
            "0.33\n",
            "0.2\n",
            "0.36\n",
            "0.32\n",
            "0.28\n",
            "0.25\n",
            "0.26\n",
            "0.34\n",
            "0.34\n",
            "0.28\n",
            "0.3\n",
            "0.32\n",
            "0.37\n",
            "0.29\n",
            "0.24\n",
            "0.32\n",
            "0.26\n",
            "0.33\n",
            "0.36\n",
            "0.24\n",
            "0.24\n",
            "0.34\n",
            "0.32\n",
            "0.27\n",
            "0.27\n",
            "0.28\n",
            "0.22\n",
            "0.29\n",
            "0.27\n",
            "0.25\n",
            "0.27\n",
            "0.33\n",
            "0.24\n",
            "0.37\n",
            "0.24\n",
            "0.21\n",
            "0.25\n",
            "0.21\n",
            "0.35\n",
            "0.23\n",
            "0.27\n",
            "0.21\n",
            "0.25\n",
            "0.22\n",
            "0.21\n",
            "0.2\n",
            "0.19\n",
            "0.22\n",
            "0.13\n",
            "0.12\n",
            "0.11\n",
            "0.18\n",
            "0.39\n"
          ],
          "name": "stdout"
        }
      ]
    },
    {
      "cell_type": "code",
      "metadata": {
        "id": "cGR1ot7CD703"
      },
      "source": [
        "val_dataset = datasets.MNIST(\n",
        "    'data', train=False, download=True, transform=transform)\n",
        "val_loader = torch.utils.data.DataLoader(val_dataset, batch_size=512)"
      ],
      "execution_count": null,
      "outputs": []
    },
    {
      "cell_type": "code",
      "metadata": {
        "colab": {
          "base_uri": "https://localhost:8080/"
        },
        "id": "rG9v4sVZEFuD",
        "outputId": "32060359-5a4e-4d87-ad90-de78cfdd51eb"
      },
      "source": [
        "correct = 0.\n",
        "net.eval()\n",
        "for inputs, target in val_loader:\n",
        "    output = net(inputs)\n",
        "    _, pred = output.max(1)\n",
        "    correct += (pred == target).sum()\n",
        "accuracy = correct / len(val_dataset) * 100.\n",
        "print(f'{accuracy:.2f}% correct')"
      ],
      "execution_count": null,
      "outputs": [
        {
          "output_type": "stream",
          "text": [
            "88.37% correct\n"
          ],
          "name": "stdout"
        }
      ]
    },
    {
      "cell_type": "code",
      "metadata": {
        "id": "_9cmMI2enyK6"
      },
      "source": [
        ""
      ],
      "execution_count": null,
      "outputs": []
    },
    {
      "cell_type": "code",
      "metadata": {
        "id": "0EEXEnZInyN5"
      },
      "source": [
        ""
      ],
      "execution_count": null,
      "outputs": []
    },
    {
      "cell_type": "code",
      "metadata": {
        "id": "iY6a6eGInyRf"
      },
      "source": [
        ""
      ],
      "execution_count": null,
      "outputs": []
    },
    {
      "cell_type": "code",
      "metadata": {
        "id": "hSjojGbDnyUC"
      },
      "source": [
        ""
      ],
      "execution_count": null,
      "outputs": []
    },
    {
      "cell_type": "code",
      "metadata": {
        "id": "K-gkgX4enyW6"
      },
      "source": [
        ""
      ],
      "execution_count": null,
      "outputs": []
    },
    {
      "cell_type": "code",
      "metadata": {
        "id": "9tdkn-uEnyaI"
      },
      "source": [
        ""
      ],
      "execution_count": null,
      "outputs": []
    },
    {
      "cell_type": "code",
      "metadata": {
        "id": "kGYAarcTnydF"
      },
      "source": [
        ""
      ],
      "execution_count": null,
      "outputs": []
    }
  ]
}